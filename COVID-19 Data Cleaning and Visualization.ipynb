{
 "cells": [
  {
   "cell_type": "markdown",
   "metadata": {},
   "source": [
    "# COVID-19 Data Cleaning and Visualization"
   ]
  },
  {
   "cell_type": "markdown",
   "metadata": {},
   "source": [
    "## Data Cleaning"
   ]
  },
  {
   "cell_type": "markdown",
   "metadata": {},
   "source": [
    "The data sets used in this notebook is Covid-19 data set in Indonesia and universe from January 2020 to June 2020. Each has confirmed, recovered, and death time-series data."
   ]
  },
  {
   "cell_type": "markdown",
   "metadata": {},
   "source": [
    "1. Import library and data sets"
   ]
  },
  {
   "cell_type": "code",
   "execution_count": 66,
   "metadata": {},
   "outputs": [
    {
     "name": "stdout",
     "output_type": "stream",
     "text": [
      "  Province/State Country/Region      Lat     Long  1/22/20  1/23/20  1/24/20  \\\n",
      "0            NaN    Afghanistan  33.0000  65.0000        0        0        0   \n",
      "1            NaN        Albania  41.1533  20.1683        0        0        0   \n",
      "2            NaN        Algeria  28.0339   1.6596        0        0        0   \n",
      "3            NaN        Andorra  42.5063   1.5218        0        0        0   \n",
      "4            NaN         Angola -11.2027  17.8739        0        0        0   \n",
      "\n",
      "   1/25/20  1/26/20  1/27/20  ...  6/12/20  6/13/20  6/14/20  6/15/20  \\\n",
      "0        0        0        0  ...    23546    24102    24766    25527   \n",
      "1        0        0        0  ...     1416     1464     1521     1590   \n",
      "2        0        0        0  ...    10698    10810    10919    11031   \n",
      "3        0        0        0  ...      853      853      853      853   \n",
      "4        0        0        0  ...      130      138      140      142   \n",
      "\n",
      "   6/16/20  6/17/20  6/18/20  6/19/20  6/20/20  6/21/20  \n",
      "0    26310    26874    27532    27878    28424    28833  \n",
      "1     1672     1722     1788     1838     1891     1962  \n",
      "2    11147    11268    11385    11504    11631    11771  \n",
      "3      854      854      855      855      855      855  \n",
      "4      148      155      166      172      176      183  \n",
      "\n",
      "[5 rows x 156 columns]\n"
     ]
    }
   ],
   "source": [
    "'''Step 1: Import the data'''\n",
    "import pandas as pd\n",
    "import matplotlib.pyplot as plt\n",
    "\n",
    "dfc = pd.read_csv(\"time_series_covid19_confirmed_global.csv\") #confirmed\n",
    "dfr = pd.read_csv(\"time_series_covid19_recovered_global.csv\") #recovered\n",
    "dfd = pd.read_csv(\"time_series_covid19_deaths_global.csv\") #deaths\n",
    "\n",
    "\n",
    "print(dfc.head())"
   ]
  },
  {
   "cell_type": "markdown",
   "metadata": {},
   "source": [
    "2. Delete the \"Province/State\" column"
   ]
  },
  {
   "cell_type": "code",
   "execution_count": 9,
   "metadata": {},
   "outputs": [],
   "source": [
    "del dfc['Province/State']\n",
    "del dfr['Province/State']\n",
    "del dfd['Province/State']"
   ]
  },
  {
   "cell_type": "markdown",
   "metadata": {},
   "source": [
    "3. Check the dataframe shape as there will be a combined dataframe"
   ]
  },
  {
   "cell_type": "code",
   "execution_count": 12,
   "metadata": {},
   "outputs": [
    {
     "name": "stdout",
     "output_type": "stream",
     "text": [
      "(266, 155)\n",
      "(253, 155)\n",
      "(266, 155)\n"
     ]
    }
   ],
   "source": [
    "print(dfc.shape)\n",
    "print(dfr.shape)\n",
    "print(dfd.shape)"
   ]
  },
  {
   "cell_type": "markdown",
   "metadata": {},
   "source": [
    "3a. Check the intersection (of the same country)"
   ]
  },
  {
   "cell_type": "code",
   "execution_count": 15,
   "metadata": {},
   "outputs": [
    {
     "name": "stdout",
     "output_type": "stream",
     "text": [
      "{'Cuba', 'Timor-Leste', 'Qatar', 'Namibia', 'Kuwait', 'Kazakhstan', 'Brunei', 'Guinea-Bissau', 'Romania', \"Cote d'Ivoire\", 'New Zealand', 'Botswana', 'Yemen', 'Argentina', 'Mexico', 'Uganda', 'Grenada', 'Algeria', 'Malaysia', 'Chile', 'Sri Lanka', 'Djibouti', 'Guyana', 'South Africa', 'Albania', 'Bangladesh', 'Malawi', 'Italy', 'Gambia', 'Croatia', 'Zimbabwe', 'Vietnam', 'Mozambique', 'Gabon', 'Lithuania', 'Saint Kitts and Nevis', 'Iran', 'France', 'MS Zaandam', 'Georgia', 'Central African Republic', 'Libya', 'Andorra', 'Oman', 'Singapore', 'Antigua and Barbuda', 'Germany', 'Suriname', 'Cabo Verde', 'San Marino', 'Cameroon', 'Azerbaijan', 'Bosnia and Herzegovina', 'Benin', 'China', 'Saint Lucia', 'Honduras', 'Laos', 'Liberia', 'Saudi Arabia', 'Paraguay', 'Greece', 'Niger', 'Somalia', 'Holy See', 'Monaco', 'Netherlands', 'Madagascar', 'Tanzania', 'Seychelles', 'Colombia', 'Ireland', 'Ethiopia', 'Jamaica', 'Peru', 'West Bank and Gaza', 'Israel', 'Sierra Leone', 'Mali', 'Nicaragua', 'Sweden', 'Poland', 'Panama', 'Angola', 'Japan', 'Mongolia', 'Iraq', 'Maldives', 'Eswatini', 'Slovakia', 'Fiji', 'Barbados', 'Latvia', 'Tajikistan', 'Zambia', 'Luxembourg', 'Mauritius', 'Bahamas', 'Guinea', 'Burundi', 'Congo (Brazzaville)', 'Nigeria', 'Dominica', 'Equatorial Guinea', 'Bhutan', 'Uzbekistan', 'Serbia', 'Sao Tome and Principe', 'Spain', 'Jordan', 'Belize', 'Guatemala', 'Pakistan', 'Korea, South', 'Malta', 'Burkina Faso', 'Burma', 'Western Sahara', 'Morocco', 'Ghana', 'Trinidad and Tobago', 'South Sudan', 'Egypt', 'El Salvador', 'Ukraine', 'Venezuela', 'Kosovo', 'Chad', 'Mauritania', 'Canada', 'Taiwan*', 'North Macedonia', 'Lesotho', 'Lebanon', 'Senegal', 'Thailand', 'US', 'Hungary', 'Tunisia', 'Portugal', 'Austria', 'Papua New Guinea', 'India', 'Congo (Kinshasa)', 'Philippines', 'Bolivia', 'Syria', 'Denmark', 'Dominican Republic', 'Kyrgyzstan', 'Togo', 'Indonesia', 'Switzerland', 'United Arab Emirates', 'Rwanda', 'Belarus', 'Kenya', 'Montenegro', 'Eritrea', 'Saint Vincent and the Grenadines', 'Nepal', 'Sudan', 'Bulgaria', 'Iceland', 'Bahrain', 'Finland', 'Russia', 'United Kingdom', 'Czechia', 'Armenia', 'Australia', 'Brazil', 'Haiti', 'Moldova', 'Costa Rica', 'Uruguay', 'Norway', 'Ecuador', 'Slovenia', 'Turkey', 'Comoros', 'Estonia', 'Afghanistan', 'Liechtenstein', 'Cyprus', 'Cambodia', 'Diamond Princess', 'Belgium'}\n",
      "188\n"
     ]
    }
   ],
   "source": [
    "compares = set(dfc['Country/Region']).intersection(set(dfr['Country/Region']))\n",
    "print(compares)\n",
    "print(len(compares))"
   ]
  },
  {
   "cell_type": "code",
   "execution_count": 17,
   "metadata": {},
   "outputs": [
    {
     "name": "stdout",
     "output_type": "stream",
     "text": [
      "188\n",
      "['Afghanistan' 'Albania' 'Algeria' 'Andorra' 'Angola'\n",
      " 'Antigua and Barbuda' 'Argentina' 'Armenia' 'Australia' 'Austria'\n",
      " 'Azerbaijan' 'Bahamas' 'Bahrain' 'Bangladesh' 'Barbados' 'Belarus'\n",
      " 'Belgium' 'Benin' 'Bhutan' 'Bolivia' 'Bosnia and Herzegovina' 'Brazil'\n",
      " 'Brunei' 'Bulgaria' 'Burkina Faso' 'Cabo Verde' 'Cambodia' 'Cameroon'\n",
      " 'Canada' 'Central African Republic' 'Chad' 'Chile' 'China' 'Colombia'\n",
      " 'Congo (Brazzaville)' 'Congo (Kinshasa)' 'Costa Rica' \"Cote d'Ivoire\"\n",
      " 'Croatia' 'Diamond Princess' 'Cuba' 'Cyprus' 'Czechia' 'Denmark'\n",
      " 'Djibouti' 'Dominican Republic' 'Ecuador' 'Egypt' 'El Salvador'\n",
      " 'Equatorial Guinea' 'Eritrea' 'Estonia' 'Eswatini' 'Ethiopia' 'Fiji'\n",
      " 'Finland' 'France' 'Gabon' 'Gambia' 'Georgia' 'Germany' 'Ghana' 'Greece'\n",
      " 'Guatemala' 'Guinea' 'Guyana' 'Haiti' 'Holy See' 'Honduras' 'Hungary'\n",
      " 'Iceland' 'India' 'Indonesia' 'Iran' 'Iraq' 'Ireland' 'Israel' 'Italy'\n",
      " 'Jamaica' 'Japan' 'Jordan' 'Kazakhstan' 'Kenya' 'Korea, South' 'Kuwait'\n",
      " 'Kyrgyzstan' 'Latvia' 'Lebanon' 'Liberia' 'Liechtenstein' 'Lithuania'\n",
      " 'Luxembourg' 'Madagascar' 'Malaysia' 'Maldives' 'Malta' 'Mauritania'\n",
      " 'Mauritius' 'Mexico' 'Moldova' 'Monaco' 'Mongolia' 'Montenegro' 'Morocco'\n",
      " 'Namibia' 'Nepal' 'Netherlands' 'New Zealand' 'Nicaragua' 'Niger'\n",
      " 'Nigeria' 'North Macedonia' 'Norway' 'Oman' 'Pakistan' 'Panama'\n",
      " 'Papua New Guinea' 'Paraguay' 'Peru' 'Philippines' 'Poland' 'Portugal'\n",
      " 'Qatar' 'Romania' 'Russia' 'Rwanda' 'Saint Lucia'\n",
      " 'Saint Vincent and the Grenadines' 'San Marino' 'Saudi Arabia' 'Senegal'\n",
      " 'Serbia' 'Seychelles' 'Singapore' 'Slovakia' 'Slovenia' 'Somalia'\n",
      " 'South Africa' 'Spain' 'Sri Lanka' 'Sudan' 'Suriname' 'Sweden'\n",
      " 'Switzerland' 'Taiwan*' 'Tanzania' 'Thailand' 'Togo'\n",
      " 'Trinidad and Tobago' 'Tunisia' 'Turkey' 'Uganda' 'Ukraine'\n",
      " 'United Arab Emirates' 'United Kingdom' 'Uruguay' 'US' 'Uzbekistan'\n",
      " 'Venezuela' 'Vietnam' 'Zambia' 'Zimbabwe' 'Dominica' 'Grenada'\n",
      " 'Mozambique' 'Syria' 'Timor-Leste' 'Belize' 'Laos' 'Libya'\n",
      " 'West Bank and Gaza' 'Guinea-Bissau' 'Mali' 'Saint Kitts and Nevis'\n",
      " 'Kosovo' 'Burma' 'MS Zaandam' 'Botswana' 'Burundi' 'Sierra Leone'\n",
      " 'Malawi' 'South Sudan' 'Western Sahara' 'Sao Tome and Principe' 'Yemen'\n",
      " 'Comoros' 'Tajikistan' 'Lesotho']\n"
     ]
    }
   ],
   "source": [
    "compares = set(dfc['Country/Region']).union(set(dfr['Country/Region']))\n",
    "print(len(compares))\n",
    "print(dfc['Country/Region'].unique())"
   ]
  },
  {
   "cell_type": "markdown",
   "metadata": {},
   "source": [
    "3b. Check the dataframe, which index has different data between dfc and dfr"
   ]
  },
  {
   "cell_type": "code",
   "execution_count": 22,
   "metadata": {},
   "outputs": [
    {
     "name": "stdout",
     "output_type": "stream",
     "text": [
      "[24, 25, 26, 27, 28, 29, 30, 31, 32, 33, 34, 35, 37, 38, 39, 40, 41, 42, 43, 44, 45, 46, 47, 48, 73, 74, 75, 76, 77, 78, 79, 80, 81, 82, 83, 84, 85, 86, 87, 88, 89, 90, 91, 92, 93, 94, 95, 96, 97, 98, 99, 100, 101, 102, 103, 104, 105, 106, 109, 110, 111, 112, 113, 114, 115, 116, 117, 118, 119, 120, 121, 122, 123, 124, 125, 126, 127, 128, 129, 130, 131, 132, 133, 134, 135, 136, 137, 138, 139, 140, 141, 142, 143, 144, 145, 146, 147, 148, 149, 150, 151, 152, 153, 154, 155, 156, 157, 158, 159, 160, 161, 162, 163, 164, 165, 167, 168, 169, 170, 171, 172, 173, 174, 175, 176, 177, 178, 179, 180, 181, 182, 183, 184, 185, 186, 187, 188, 189, 190, 191, 192, 193, 194, 195, 196, 197, 198, 199, 200, 201, 202, 203, 204, 205, 206, 207, 208, 209, 231, 232, 233, 234, 235, 236, 237, 238, 239, 240, 241, 242, 243, 244, 245, 246, 247, 248, 249, 250, 251, 252] 180\n"
     ]
    }
   ],
   "source": [
    "list_aneh = []\n",
    "def cekdata(a, b):\n",
    "    for i in range(len(b)):\n",
    "        if (a.iloc[i]['Country/Region']) != (b.iloc[i]['Country/Region']):\n",
    "            list_aneh.append(i)\n",
    "    return list_aneh\n",
    "\n",
    "cek_aneh = cekdata(dfc, dfr)\n",
    "print(cek_aneh, len(cek_aneh))"
   ]
  },
  {
   "cell_type": "markdown",
   "metadata": {},
   "source": [
    "3c. What is the 'different' data?"
   ]
  },
  {
   "cell_type": "code",
   "execution_count": 24,
   "metadata": {},
   "outputs": [
    {
     "name": "stdout",
     "output_type": "stream",
     "text": [
      "[(['Benin'], ['Belize']), (['Bhutan'], ['Benin']), (['Bolivia'], ['Bhutan']), (['Bosnia and Herzegovina'], ['Bolivia']), (['Brazil'], ['Bosnia and Herzegovina']), (['Brunei'], ['Brazil']), (['Bulgaria'], ['Brunei']), (['Burkina Faso'], ['Bulgaria']), (['Cabo Verde'], ['Burkina Faso']), (['Cambodia'], ['Cabo Verde']), (['Cameroon'], ['Cambodia']), (['Canada'], ['Cameroon']), (['Canada'], ['Central African Republic']), (['Canada'], ['Chad']), (['Canada'], ['Chile']), (['Canada'], ['China']), (['Canada'], ['China']), (['Canada'], ['China']), (['Canada'], ['China']), (['Canada'], ['China']), (['Canada'], ['China']), (['Central African Republic'], ['China']), (['Chad'], ['China']), (['Chile'], ['China']), (['China'], ['Colombia']), (['China'], ['Congo (Brazzaville)']), (['China'], ['Congo (Kinshasa)']), (['China'], ['Costa Rica']), (['China'], [\"Cote d'Ivoire\"]), (['China'], ['Croatia']), (['China'], ['Diamond Princess']), (['China'], ['Cuba']), (['China'], ['Cyprus']), (['Colombia'], ['Czechia']), (['Congo (Brazzaville)'], ['Denmark']), (['Congo (Kinshasa)'], ['Denmark']), (['Costa Rica'], ['Denmark']), ([\"Cote d'Ivoire\"], ['Djibouti']), (['Croatia'], ['Dominica']), (['Diamond Princess'], ['Dominican Republic']), (['Cuba'], ['Ecuador']), (['Cyprus'], ['Egypt']), (['Czechia'], ['El Salvador']), (['Denmark'], ['Equatorial Guinea']), (['Denmark'], ['Eritrea']), (['Denmark'], ['Estonia']), (['Djibouti'], ['Eswatini']), (['Dominican Republic'], ['Ethiopia']), (['Ecuador'], ['Fiji']), (['Egypt'], ['Finland']), (['El Salvador'], ['France']), (['Equatorial Guinea'], ['France']), (['Eritrea'], ['France']), (['Estonia'], ['France']), (['Eswatini'], ['France']), (['Ethiopia'], ['France']), (['Fiji'], ['France']), (['Finland'], ['France']), (['France'], ['Gabon']), (['France'], ['Gambia']), (['France'], ['Georgia']), (['France'], ['Germany']), (['France'], ['Ghana']), (['France'], ['Grenada']), (['France'], ['Greece']), (['France'], ['Guatemala']), (['Gabon'], ['Guinea']), (['Gambia'], ['Guinea-Bissau']), (['Georgia'], ['Guyana']), (['Germany'], ['Haiti']), (['Ghana'], ['Holy See']), (['Greece'], ['Honduras']), (['Guatemala'], ['Hungary']), (['Guinea'], ['Iceland']), (['Guyana'], ['India']), (['Haiti'], ['Indonesia']), (['Holy See'], ['Iran']), (['Honduras'], ['Iraq']), (['Hungary'], ['Ireland']), (['Iceland'], ['Israel']), (['India'], ['Italy']), (['Indonesia'], ['Jamaica']), (['Iran'], ['Japan']), (['Iraq'], ['Jordan']), (['Ireland'], ['Kazakhstan']), (['Israel'], ['Kenya']), (['Italy'], ['Korea, South']), (['Jamaica'], ['Kuwait']), (['Japan'], ['Kyrgyzstan']), (['Jordan'], ['Latvia']), (['Kazakhstan'], ['Lebanon']), (['Kenya'], ['Liberia']), (['Korea, South'], ['Libya']), (['Kuwait'], ['Liechtenstein']), (['Kyrgyzstan'], ['Lithuania']), (['Latvia'], ['Luxembourg']), (['Lebanon'], ['Madagascar']), (['Liberia'], ['Malaysia']), (['Liechtenstein'], ['Maldives']), (['Lithuania'], ['Mali']), (['Luxembourg'], ['Malta']), (['Madagascar'], ['Mauritania']), (['Malaysia'], ['Mauritius']), (['Maldives'], ['Mexico']), (['Malta'], ['Moldova']), (['Mauritania'], ['Monaco']), (['Mauritius'], ['Mongolia']), (['Mexico'], ['Montenegro']), (['Moldova'], ['Morocco']), (['Monaco'], ['Mozambique']), (['Mongolia'], ['Namibia']), (['Montenegro'], ['Nepal']), (['Morocco'], ['Netherlands']), (['Namibia'], ['Netherlands']), (['Nepal'], ['Netherlands']), (['Netherlands'], ['New Zealand']), (['Netherlands'], ['Nicaragua']), (['Netherlands'], ['Niger']), (['New Zealand'], ['Nigeria']), (['Nicaragua'], ['North Macedonia']), (['Niger'], ['Norway']), (['Nigeria'], ['Oman']), (['North Macedonia'], ['Pakistan']), (['Norway'], ['Panama']), (['Oman'], ['Papua New Guinea']), (['Pakistan'], ['Paraguay']), (['Panama'], ['Peru']), (['Papua New Guinea'], ['Philippines']), (['Paraguay'], ['Poland']), (['Peru'], ['Portugal']), (['Philippines'], ['Qatar']), (['Poland'], ['Romania']), (['Portugal'], ['Russia']), (['Qatar'], ['Rwanda']), (['Romania'], ['Saint Kitts and Nevis']), (['Russia'], ['Saint Lucia']), (['Rwanda'], ['Saint Vincent and the Grenadines']), (['Saint Lucia'], ['San Marino']), (['Saint Vincent and the Grenadines'], ['Saudi Arabia']), (['San Marino'], ['Senegal']), (['Saudi Arabia'], ['Serbia']), (['Senegal'], ['Seychelles']), (['Serbia'], ['Singapore']), (['Seychelles'], ['Slovakia']), (['Singapore'], ['Slovenia']), (['Slovakia'], ['Somalia']), (['Slovenia'], ['South Africa']), (['Somalia'], ['Spain']), (['South Africa'], ['Sri Lanka']), (['Spain'], ['Sudan']), (['Sri Lanka'], ['Suriname']), (['Sudan'], ['Sweden']), (['Suriname'], ['Switzerland']), (['Sweden'], ['Syria']), (['Switzerland'], ['Taiwan*']), (['Taiwan*'], ['Tanzania']), (['Tanzania'], ['Thailand']), (['Thailand'], ['Timor-Leste']), (['Canada'], ['West Bank and Gaza']), (['Dominica'], ['Laos']), (['Grenada'], ['Kosovo']), (['Mozambique'], ['Burma']), (['Syria'], ['United Kingdom']), (['Timor-Leste'], ['United Kingdom']), (['Belize'], ['United Kingdom']), (['Laos'], ['MS Zaandam']), (['Libya'], ['Botswana']), (['West Bank and Gaza'], ['Burundi']), (['Guinea-Bissau'], ['Sierra Leone']), (['Mali'], ['Netherlands']), (['Saint Kitts and Nevis'], ['Malawi']), (['Canada'], ['United Kingdom']), (['Canada'], ['France']), (['Kosovo'], ['South Sudan']), (['Burma'], ['Western Sahara']), (['United Kingdom'], ['Sao Tome and Principe']), (['United Kingdom'], ['Yemen']), (['United Kingdom'], ['Comoros']), (['MS Zaandam'], ['Tajikistan']), (['Botswana'], ['Lesotho'])]\n"
     ]
    }
   ],
   "source": [
    "list_cekal = []\n",
    "all_cekal = []\n",
    "for c in range(len(cek_aneh)):\n",
    "    list_cekal = dfc.iloc[[cek_aneh[c]]]['Country/Region'].values.tolist(), dfr.iloc[[cek_aneh[c]]]['Country/Region'].values.tolist() # ambil nilai terus dimasukin ke list: .values.tolist()\n",
    "    all_cekal.append(list_cekal)\n",
    "print(all_cekal)"
   ]
  },
  {
   "cell_type": "code",
   "execution_count": 25,
   "metadata": {},
   "outputs": [
    {
     "name": "stdout",
     "output_type": "stream",
     "text": [
      "True\n"
     ]
    }
   ],
   "source": [
    "# Check whether Belize is contained in dfc or not\n",
    "listb = dfc['Country/Region'].values\n",
    "print('Belize' in listb)"
   ]
  },
  {
   "cell_type": "markdown",
   "metadata": {},
   "source": [
    "3d. Suspect: Data is not sorted. Do sorting."
   ]
  },
  {
   "cell_type": "code",
   "execution_count": 26,
   "metadata": {},
   "outputs": [
    {
     "name": "stdout",
     "output_type": "stream",
     "text": [
      "         Country/Region      Lat      Long  1/22/20  1/23/20  1/24/20  \\\n",
      "0           Afghanistan  33.0000   65.0000        0        0        0   \n",
      "1               Albania  41.1533   20.1683        0        0        0   \n",
      "2               Algeria  28.0339    1.6596        0        0        0   \n",
      "3               Andorra  42.5063    1.5218        0        0        0   \n",
      "4                Angola -11.2027   17.8739        0        0        0   \n",
      "5   Antigua and Barbuda  17.0608  -61.7964        0        0        0   \n",
      "6             Argentina -38.4161  -63.6167        0        0        0   \n",
      "7               Armenia  40.0691   45.0382        0        0        0   \n",
      "15            Australia -31.9505  115.8605        0        0        0   \n",
      "14            Australia -37.8136  144.9631        0        0        0   \n",
      "13            Australia -41.4545  145.9707        0        0        0   \n",
      "12            Australia -34.9285  138.6007        0        0        0   \n",
      "10            Australia -12.4634  130.8456        0        0        0   \n",
      "9             Australia -33.8688  151.2093        0        0        0   \n",
      "8             Australia -35.4735  149.0124        0        0        0   \n",
      "11            Australia -28.0167  153.4000        0        0        0   \n",
      "16              Austria  47.5162   14.5501        0        0        0   \n",
      "17           Azerbaijan  40.1431   47.5769        0        0        0   \n",
      "18              Bahamas  25.0343  -77.3963        0        0        0   \n",
      "19              Bahrain  26.0275   50.5500        0        0        0   \n",
      "\n",
      "    1/25/20  1/26/20  1/27/20  1/28/20  ...  6/12/20  6/13/20  6/14/20  \\\n",
      "0         0        0        0        0  ...    23546    24102    24766   \n",
      "1         0        0        0        0  ...     1416     1464     1521   \n",
      "2         0        0        0        0  ...    10698    10810    10919   \n",
      "3         0        0        0        0  ...      853      853      853   \n",
      "4         0        0        0        0  ...      130      138      140   \n",
      "5         0        0        0        0  ...       26       26       26   \n",
      "6         0        0        0        0  ...    28764    30295    31577   \n",
      "7         0        0        0        0  ...    15281    16004    16667   \n",
      "15        0        0        0        0  ...      602      602      602   \n",
      "14        0        1        1        1  ...     1703     1720     1732   \n",
      "13        0        0        0        0  ...      228      228      228   \n",
      "12        0        0        0        0  ...      440      440      440   \n",
      "10        0        0        0        0  ...       29       29       29   \n",
      "9         0        3        4        4  ...     3119     3128     3131   \n",
      "8         0        0        0        0  ...      108      108      108   \n",
      "11        0        0        0        0  ...     1065     1065     1065   \n",
      "16        0        0        0        0  ...    17064    17078    17109   \n",
      "17        0        0        0        0  ...     9218     9570     9957   \n",
      "18        0        0        0        0  ...      103      103      103   \n",
      "19        0        0        0        0  ...    17269    17713    18227   \n",
      "\n",
      "    6/15/20  6/16/20  6/17/20  6/18/20  6/19/20  6/20/20  6/21/20  \n",
      "0     25527    26310    26874    27532    27878    28424    28833  \n",
      "1      1590     1672     1722     1788     1838     1891     1962  \n",
      "2     11031    11147    11268    11385    11504    11631    11771  \n",
      "3       853      854      854      855      855      855      855  \n",
      "4       142      148      155      166      172      176      183  \n",
      "5        26       26       26       26       26       26       26  \n",
      "6     32785    34159    35552    37510    39570    41204    42785  \n",
      "7     17064    17489    18033    18698    19157    19708    20268  \n",
      "15      602      602      603      603      604      605      605  \n",
      "14     1741     1762     1780     1792     1792     1836     1847  \n",
      "13      228      228      228      228      228      228      228  \n",
      "12      440      440      440      440      440      440      440  \n",
      "10       29       29       29       29       29       29       29  \n",
      "9      3134     3135     3137     3143     3144     3149     3151  \n",
      "8       108      108      108      108      108      108      108  \n",
      "11     1065     1066     1066     1066     1066     1066     1066  \n",
      "16    17135    17189    17203    17223    17271    17323    17341  \n",
      "17    10324    10662    10991    11329    11767    12238    12729  \n",
      "18      103      104      104      104      104      104      104  \n",
      "19    19013    19553    19961    20430    20916    21331    21764  \n",
      "\n",
      "[20 rows x 155 columns]\n"
     ]
    }
   ],
   "source": [
    "dfc.sort_values('Country/Region', inplace=True) #inplace True: adata diganti di df itu langsung\n",
    "print(dfc.head(20))"
   ]
  },
  {
   "cell_type": "code",
   "execution_count": 28,
   "metadata": {},
   "outputs": [
    {
     "name": "stdout",
     "output_type": "stream",
     "text": [
      "        Country/Region      Lat      Long  1/22/20  1/23/20  1/24/20  1/25/20  \\\n",
      "0          Afghanistan  33.0000   65.0000        0        0        0        0   \n",
      "1              Albania  41.1533   20.1683        0        0        0        0   \n",
      "2              Algeria  28.0339    1.6596        0        0        0        0   \n",
      "3              Andorra  42.5063    1.5218        0        0        0        0   \n",
      "4               Angola -11.2027   17.8739        0        0        0        0   \n",
      "5  Antigua and Barbuda  17.0608  -61.7964        0        0        0        0   \n",
      "6            Argentina -38.4161  -63.6167        0        0        0        0   \n",
      "7              Armenia  40.0691   45.0382        0        0        0        0   \n",
      "8            Australia -31.9505  115.8605        0        0        0        0   \n",
      "9            Australia -37.8136  144.9631        0        0        0        0   \n",
      "\n",
      "   1/26/20  1/27/20  1/28/20  ...  6/12/20  6/13/20  6/14/20  6/15/20  \\\n",
      "0        0        0        0  ...    23546    24102    24766    25527   \n",
      "1        0        0        0  ...     1416     1464     1521     1590   \n",
      "2        0        0        0  ...    10698    10810    10919    11031   \n",
      "3        0        0        0  ...      853      853      853      853   \n",
      "4        0        0        0  ...      130      138      140      142   \n",
      "5        0        0        0  ...       26       26       26       26   \n",
      "6        0        0        0  ...    28764    30295    31577    32785   \n",
      "7        0        0        0  ...    15281    16004    16667    17064   \n",
      "8        0        0        0  ...      602      602      602      602   \n",
      "9        1        1        1  ...     1703     1720     1732     1741   \n",
      "\n",
      "   6/16/20  6/17/20  6/18/20  6/19/20  6/20/20  6/21/20  \n",
      "0    26310    26874    27532    27878    28424    28833  \n",
      "1     1672     1722     1788     1838     1891     1962  \n",
      "2    11147    11268    11385    11504    11631    11771  \n",
      "3      854      854      855      855      855      855  \n",
      "4      148      155      166      172      176      183  \n",
      "5       26       26       26       26       26       26  \n",
      "6    34159    35552    37510    39570    41204    42785  \n",
      "7    17489    18033    18698    19157    19708    20268  \n",
      "8      602      603      603      604      605      605  \n",
      "9     1762     1780     1792     1792     1836     1847  \n",
      "\n",
      "[10 rows x 155 columns]\n",
      "     Country/Region        Lat       Long  1/22/20  1/23/20  1/24/20  1/25/20  \\\n",
      "262  Western Sahara  24.215500 -12.885800        0        0        0        0   \n",
      "263           Yemen  15.552727  48.516388        0        0        0        0   \n",
      "264          Zambia -15.416700  28.283300        0        0        0        0   \n",
      "265        Zimbabwe -20.000000  30.000000        0        0        0        0   \n",
      "\n",
      "     1/26/20  1/27/20  1/28/20  ...  6/12/20  6/13/20  6/14/20  6/15/20  \\\n",
      "262        0        0        0  ...        9        9        9        9   \n",
      "263        0        0        0  ...      632      705      728      844   \n",
      "264        0        0        0  ...     1321     1357     1358     1382   \n",
      "265        0        0        0  ...      343      356      383      387   \n",
      "\n",
      "     6/16/20  6/17/20  6/18/20  6/19/20  6/20/20  6/21/20  \n",
      "262        9        9        9        9        9        9  \n",
      "263      885      902      909      919      922      941  \n",
      "264     1405     1412     1416     1430     1430     1430  \n",
      "265      391      401      463      479      479      489  \n",
      "\n",
      "[4 rows x 155 columns]\n"
     ]
    }
   ],
   "source": [
    "# make sure the indexing is perfectly sorted\n",
    "dfc.index = range(len(dfc.index))\n",
    "print(dfc.head(10))\n",
    "print(dfc.tail(4))"
   ]
  },
  {
   "cell_type": "markdown",
   "metadata": {},
   "source": [
    "4. Do similar steps to dfr"
   ]
  },
  {
   "cell_type": "code",
   "execution_count": 37,
   "metadata": {},
   "outputs": [
    {
     "name": "stdout",
     "output_type": "stream",
     "text": [
      "        Country/Region      Lat      Long  1/22/20  1/23/20  1/24/20  1/25/20  \\\n",
      "0          Afghanistan  33.0000   65.0000        0        0        0        0   \n",
      "1              Albania  41.1533   20.1683        0        0        0        0   \n",
      "2              Algeria  28.0339    1.6596        0        0        0        0   \n",
      "3              Andorra  42.5063    1.5218        0        0        0        0   \n",
      "4               Angola -11.2027   17.8739        0        0        0        0   \n",
      "5  Antigua and Barbuda  17.0608  -61.7964        0        0        0        0   \n",
      "6            Argentina -38.4161  -63.6167        0        0        0        0   \n",
      "7              Armenia  40.0691   45.0382        0        0        0        0   \n",
      "8            Australia -35.4735  149.0124        0        0        0        0   \n",
      "9            Australia -33.8688  151.2093        0        0        0        0   \n",
      "\n",
      "   1/26/20  1/27/20  1/28/20  ...  6/12/20  6/13/20  6/14/20  6/15/20  \\\n",
      "0        0        0        0  ...     3928     4201     4725     5164   \n",
      "1        0        0        0  ...     1034     1039     1044     1055   \n",
      "2        0        0        0  ...     7322     7420     7606     7735   \n",
      "3        0        0        0  ...      781      781      781      789   \n",
      "4        0        0        0  ...       42       61       61       64   \n",
      "5        0        0        0  ...       20       20       20       20   \n",
      "6        0        0        0  ...     8743     9083     9564     9891   \n",
      "7        0        0        0  ...     5639     6081     6214     6276   \n",
      "8        0        0        0  ...      104      104      104      104   \n",
      "9        0        0        0  ...     2763     2766     2766     2768   \n",
      "\n",
      "   6/16/20  6/17/20  6/18/20  6/19/20  6/20/20  6/21/20  \n",
      "0     5508     6158     7660     7962     8292     8764  \n",
      "1     1064     1077     1086     1114     1126     1134  \n",
      "2     7842     7943     8078     8196     8324     8422  \n",
      "3      789      791      792      792      792      792  \n",
      "4       64       64       64       66       66       77  \n",
      "5       22       22       22       22       22       22  \n",
      "6    10174    10512    10721    11851    12206    12728  \n",
      "7     6571     6814     7560     8266     8854     9002  \n",
      "8      105      105      105      105      105      105  \n",
      "9     2770     2770     2770     2771     2771     2771  \n",
      "\n",
      "[10 rows x 155 columns]\n"
     ]
    }
   ],
   "source": [
    "dfr.sort_values('Country/Region', inplace=True) #inplace True: adata diganti di df itu langsung\n",
    "dfr.index = range(len(dfr.index))\n",
    "print(dfr.head(10))"
   ]
  },
  {
   "cell_type": "markdown",
   "metadata": {},
   "source": [
    "5. Merge rows with the same country name by averaging the lattitude and longitude."
   ]
  },
  {
   "cell_type": "code",
   "execution_count": 30,
   "metadata": {},
   "outputs": [
    {
     "name": "stdout",
     "output_type": "stream",
     "text": [
      "   Country/Region      Lat      Long  1/22/20  1/23/20  1/24/20  1/25/20  \\\n",
      "8       Australia -31.9505  115.8605        0        0        0        0   \n",
      "9       Australia -37.8136  144.9631        0        0        0        0   \n",
      "10      Australia -41.4545  145.9707        0        0        0        0   \n",
      "11      Australia -34.9285  138.6007        0        0        0        0   \n",
      "12      Australia -12.4634  130.8456        0        0        0        0   \n",
      "13      Australia -33.8688  151.2093        0        0        0        0   \n",
      "14      Australia -35.4735  149.0124        0        0        0        0   \n",
      "15      Australia -28.0167  153.4000        0        0        0        0   \n",
      "\n",
      "    1/26/20  1/27/20  1/28/20  ...  6/12/20  6/13/20  6/14/20  6/15/20  \\\n",
      "8         0        0        0  ...      602      602      602      602   \n",
      "9         1        1        1  ...     1703     1720     1732     1741   \n",
      "10        0        0        0  ...      228      228      228      228   \n",
      "11        0        0        0  ...      440      440      440      440   \n",
      "12        0        0        0  ...       29       29       29       29   \n",
      "13        3        4        4  ...     3119     3128     3131     3134   \n",
      "14        0        0        0  ...      108      108      108      108   \n",
      "15        0        0        0  ...     1065     1065     1065     1065   \n",
      "\n",
      "    6/16/20  6/17/20  6/18/20  6/19/20  6/20/20  6/21/20  \n",
      "8       602      603      603      604      605      605  \n",
      "9      1762     1780     1792     1792     1836     1847  \n",
      "10      228      228      228      228      228      228  \n",
      "11      440      440      440      440      440      440  \n",
      "12       29       29       29       29       29       29  \n",
      "13     3135     3137     3143     3144     3149     3151  \n",
      "14      108      108      108      108      108      108  \n",
      "15     1066     1066     1066     1066     1066     1066  \n",
      "\n",
      "[8 rows x 155 columns]\n"
     ]
    }
   ],
   "source": [
    "print(dfc.loc[dfc['Country/Region'] == 'Australia']) # for example australia"
   ]
  },
  {
   "cell_type": "code",
   "execution_count": 32,
   "metadata": {},
   "outputs": [
    {
     "name": "stdout",
     "output_type": "stream",
     "text": [
      "1/22/20       0\n",
      "1/23/20       0\n",
      "1/24/20       0\n",
      "1/25/20       0\n",
      "1/26/20       4\n",
      "           ... \n",
      "6/17/20    7391\n",
      "6/18/20    7409\n",
      "6/19/20    7411\n",
      "6/20/20    7461\n",
      "6/21/20    7474\n",
      "Length: 152, dtype: object\n"
     ]
    }
   ],
   "source": [
    "# sum the number of case per date\n",
    "ausie = dfc.loc[dfc['Country/Region'] == 'Australia'].sum()[3:] #menjumlahkan dari tanggal (kolom ke3)\n",
    "print(ausie) #berisi data jumlah terkonfirmasi per tanggalnya (untuk australia)"
   ]
  },
  {
   "cell_type": "code",
   "execution_count": 34,
   "metadata": {},
   "outputs": [
    {
     "name": "stdout",
     "output_type": "stream",
     "text": [
      "[33.0, 65.0, 0.0, 0.0, 0.0, 0.0, 0.0, 0.0, 0.0, 0.0, 0.0, 0.0, 0.0, 0.0, 0.0, 0.0, 0.0, 0.0, 0.0, 0.0, 0.0, 0.0, 0.0, 0.0, 0.0, 0.0, 0.0, 0.0, 0.0, 0.0, 0.0, 0.0, 0.0, 0.0, 0.0, 1.0, 1.0, 1.0, 1.0, 1.0, 1.0, 1.0, 1.0, 1.0, 1.0, 1.0, 1.0, 1.0, 4.0, 4.0, 5.0, 7.0, 7.0, 7.0, 11.0, 16.0, 21.0, 22.0, 22.0, 22.0, 24.0, 24.0, 40.0, 40.0, 74.0, 84.0, 94.0, 110.0, 110.0, 120.0, 170.0, 174.0, 237.0, 273.0, 281.0, 299.0, 349.0, 367.0, 423.0, 444.0, 484.0, 521.0, 555.0, 607.0, 665.0, 714.0, 784.0, 840.0, 906.0, 933.0, 996.0, 1026.0, 1092.0, 1176.0, 1279.0, 1351.0, 1463.0, 1531.0, 1703.0, 1828.0, 1939.0, 2171.0, 2335.0, 2469.0, 2704.0, 2894.0, 3224.0, 3392.0, 3563.0, 3778.0, 4033.0, 4402.0, 4687.0, 4963.0, 5226.0, 5639.0, 6053.0, 6402.0, 6664.0, 7072.0, 7653.0, 8145.0, 8676.0, 9216.0, 9998.0, 10582.0, 11173.0, 11831.0, 12456.0, 13036.0, 13659.0, 14525.0, 15205.0, 15750.0, 16509.0, 17267.0, 18054.0, 18969.0, 19551.0, 20342.0, 20917.0, 21459.0, 22142.0, 22890.0, 23546.0, 24102.0, 24766.0, 25527.0, 26310.0, 26874.0, 27532.0, 27878.0, 28424.0, 28833.0]\n"
     ]
    }
   ],
   "source": [
    "# averaging lattitude dan longitude\n",
    "latitude = dfc.loc[dfc['Country/Region'] == 'Afghanistan'].mean().values.tolist()\n",
    "print(latitude)"
   ]
  },
  {
   "cell_type": "markdown",
   "metadata": {},
   "source": [
    "6. Make a function to make dataframe more organized (dfc, dfr, and dfd)"
   ]
  },
  {
   "cell_type": "code",
   "execution_count": 38,
   "metadata": {},
   "outputs": [
    {
     "name": "stdout",
     "output_type": "stream",
     "text": [
      "(188, 155) (188, 155) (188, 155)\n"
     ]
    }
   ],
   "source": [
    "def hitungSum(dfx, idx):\n",
    "    nama_negara = list(dfx[idx].unique())\n",
    "    latitude = []\n",
    "    longitude= []\n",
    "    per_negara = [] # data seluruh negara per hari\n",
    "    all_negara = []\n",
    "    \n",
    "    for i in nama_negara:\n",
    "        latitude = dfx.loc[dfc['Country/Region'] == i, 'Lat'].mean()\n",
    "        longitude = dfx.loc[dfc['Country/Region'] == i, 'Long'].mean()\n",
    "        \n",
    "        per_negara = dfx.loc[dfx[idx] == i].sum()[3:].values.tolist()\n",
    "        \n",
    "        per_negara.insert(0, i) # indeks ke-0 diisi dengan nama negara\n",
    "        per_negara.insert(1, latitude) # diisi dengan lat \n",
    "        per_negara.insert(2, longitude) # diisi dengan long\n",
    "        \n",
    "        all_negara.append(per_negara)\n",
    "        \n",
    "    return all_negara\n",
    "\n",
    "headerdf = dfc.columns.values.tolist() # berisi nama kolom dari dfc\n",
    "dfc_bersih = pd.DataFrame(hitungSum(dfc, 'Country/Region'), columns=headerdf) # nama columns diisi dengan headerdf\n",
    "dfr_bersih = pd.DataFrame(hitungSum(dfr, 'Country/Region'), columns=headerdf)\n",
    "dfd_bersih = pd.DataFrame(hitungSum(dfd, 'Country/Region'), columns=headerdf)\n",
    "\n",
    "print(dfc_bersih.shape, dfr_bersih.shape, dfd_bersih.shape)"
   ]
  },
  {
   "cell_type": "markdown",
   "metadata": {},
   "source": [
    "5a. Check whether Null data exist"
   ]
  },
  {
   "cell_type": "code",
   "execution_count": 40,
   "metadata": {},
   "outputs": [
    {
     "name": "stdout",
     "output_type": "stream",
     "text": [
      "Country/Region    0\n",
      "Lat               0\n",
      "Long              0\n",
      "1/22/20           0\n",
      "1/23/20           0\n",
      "                 ..\n",
      "6/17/20           0\n",
      "6/18/20           0\n",
      "6/19/20           0\n",
      "6/20/20           0\n",
      "6/21/20           0\n",
      "Length: 155, dtype: int64\n",
      "(188, 155) (179, 155) (188, 155)\n"
     ]
    }
   ],
   "source": [
    "print(dfc.isna().sum())\n",
    "dfc_bersih.dropna(inplace=True)\n",
    "dfr_bersih.dropna(inplace=True)\n",
    "dfd_bersih.dropna(inplace=True)\n",
    "\n",
    "print(dfc_bersih.shape, dfr_bersih.shape, dfd_bersih.shape)"
   ]
  },
  {
   "cell_type": "markdown",
   "metadata": {},
   "source": [
    "6. Make customized dataframe of Indonesia"
   ]
  },
  {
   "cell_type": "code",
   "execution_count": 43,
   "metadata": {},
   "outputs": [
    {
     "name": "stdout",
     "output_type": "stream",
     "text": [
      "152\n"
     ]
    }
   ],
   "source": [
    "list_date = dfc_bersih.columns.values.tolist()[3:]\n",
    "print(len(list_date))\n",
    "\n",
    "# menggabungkan data confirmed, recovered, dan death menjadi dataframe baru untuk Indonesia\n",
    "conf_id = dfc_bersih[dfc_bersih['Country/Region'] == 'Indonesia'].values[0].tolist()[3:]\n",
    "rec_id = dfr_bersih[dfr_bersih['Country/Region'] == 'Indonesia'].values[0].tolist()[3:]\n",
    "death_id = dfd_bersih[dfd_bersih['Country/Region'] == 'Indonesia'].values[0].tolist()[3:]\n",
    "\n",
    "case_id = list((list_date, conf_id, rec_id, death_id))"
   ]
  },
  {
   "cell_type": "code",
   "execution_count": 44,
   "metadata": {},
   "outputs": [
    {
     "name": "stdout",
     "output_type": "stream",
     "text": [
      "        Positif Sembuh Meninggal\n",
      "Tanggal                         \n",
      "6/12/20   36406  13213      2048\n",
      "6/13/20   37420  13776      2091\n",
      "6/14/20   38277  14531      2134\n",
      "6/15/20   39294  15123      2198\n",
      "6/16/20   40400  15703      2231\n",
      "6/17/20   41431  16243      2276\n",
      "6/18/20   42762  16798      2339\n",
      "6/19/20   43803  17349      2373\n",
      "6/20/20   45029  17883      2429\n",
      "6/21/20   45891  18404      2465\n"
     ]
    }
   ],
   "source": [
    "# transform to dataframe\n",
    "df_id = pd.DataFrame(case_id).T # T for Transpose\n",
    "df_id.columns = ['Tanggal', 'Positif', 'Sembuh', 'Meninggal']\n",
    "df_id.set_index('Tanggal', inplace=True)\n",
    "print(df_id.tail(10))"
   ]
  },
  {
   "cell_type": "code",
   "execution_count": 46,
   "metadata": {},
   "outputs": [],
   "source": [
    "# convert to csv\n",
    "df_id.to_csv(\"Data_Covid_ID.csv\")"
   ]
  },
  {
   "cell_type": "markdown",
   "metadata": {},
   "source": [
    "7. Make customized dataframe of Global"
   ]
  },
  {
   "cell_type": "code",
   "execution_count": 48,
   "metadata": {},
   "outputs": [
    {
     "name": "stdout",
     "output_type": "stream",
     "text": [
      "<class 'list'>\n",
      "[555, 654, 941, 1434, 2118, 2927, 5578, 6166, 8234, 9927, 12038, 16787, 19881, 23892, 27635, 30794, 34391, 37120, 40150, 42762, 44802, 45221, 60368, 66885, 69030, 71224, 73258, 75136, 75639, 76197, 76819, 78572, 78958, 79525, 80372, 81346, 82704, 84070, 85967, 88325, 90262, 92795, 95075, 97844, 101761, 105782, 109754, 113536, 118375, 125704, 130909, 145204, 156283, 167022, 181452, 196917, 216161, 243084, 272698, 304844, 337597, 378381, 418569, 468155, 530138, 594178, 661544, 720695, 783580, 858317, 933905, 1014713, 1097193, 1177447, 1251123, 1322598, 1397537, 1481490, 1567423, 1659674, 1737813, 1836615, 1906692, 1977287, 2057584, 2153578, 2242537, 2316591, 2399451, 2472264, 2546905, 2622750, 2711635, 2799064, 2884420, 2958352, 3027215, 3101078, 3176596, 3261450, 3349915, 3432050, 3511157, 3587874, 3668635, 3760836, 3851895, 3945002, 4030363, 4108270, 4184838, 4268247, 4353211, 4451126, 4548549, 4641727, 4721968, 4810315, 4906193, 5005761, 5112366, 5220585, 5321022, 5417354, 5504324, 5599216, 5702113, 5820253, 5941938, 6070884, 6178860, 6275246, 6387849, 6519164, 6642853, 6776126, 6902650, 7015739, 7119355, 7242692, 7376333, 7514724, 7644260, 7778881, 7912426, 8034461, 8173940, 8349950, 8488976, 8664753, 8791794, 8952428]\n"
     ]
    }
   ],
   "source": [
    "sum_c = dfc_bersih.sum()[3:].values.tolist() #data positif per hari seluruh dunia\n",
    "sum_r = dfr_bersih.sum()[3:].values.tolist() #data positif per hari seluruh dunia\n",
    "sum_d = dfd_bersih.sum()[3:].values.tolist() #data positif per hari seluruh dunia\n",
    "print(type(sum_c))\n",
    "print(sum_c)"
   ]
  },
  {
   "cell_type": "markdown",
   "metadata": {},
   "source": [
    "7a. Daily confirmed/recovered/death data"
   ]
  },
  {
   "cell_type": "code",
   "execution_count": 50,
   "metadata": {},
   "outputs": [
    {
     "name": "stdout",
     "output_type": "stream",
     "text": [
      "        Positif Sembuh Meninggal\n",
      "Tanggal                         \n",
      "1/22/20     555     28        17\n",
      "1/23/20     654     30        18\n",
      "1/24/20     941     36        26\n",
      "1/25/20    1434     39        42\n",
      "1/26/20    2118     52        56\n"
     ]
    }
   ],
   "source": [
    "df_total = pd.DataFrame(list((list_date, sum_c, sum_r, sum_d))).T\n",
    "df_total.columns = [\"Tanggal\", \"Positif\", \"Sembuh\", \"Meninggal\"]\n",
    "df_total.set_index(\"Tanggal\",inplace=True)\n",
    "print(df_total.head())\n",
    "df_total.to_csv(\"Data_Seluruh_Dunia.csv\")"
   ]
  },
  {
   "cell_type": "markdown",
   "metadata": {},
   "source": [
    "## Data Visualization"
   ]
  },
  {
   "cell_type": "markdown",
   "metadata": {},
   "source": [
    "1. Import dataset"
   ]
  },
  {
   "cell_type": "code",
   "execution_count": 52,
   "metadata": {},
   "outputs": [],
   "source": [
    "df_id = pd.read_csv(\"Data_Covid_ID.csv\")\n",
    "df_total = pd.read_csv(\"Data_Seluruh_Dunia.csv\")"
   ]
  },
  {
   "cell_type": "markdown",
   "metadata": {},
   "source": [
    "2. Tryout visualization"
   ]
  },
  {
   "cell_type": "code",
   "execution_count": 54,
   "metadata": {},
   "outputs": [
    {
     "data": {
      "text/plain": [
       "<matplotlib.axes._subplots.AxesSubplot at 0x22f86deddd8>"
      ]
     },
     "execution_count": 54,
     "metadata": {},
     "output_type": "execute_result"
    },
    {
     "data": {
      "image/png": "[encoded data removed]",
      "text/plain": [
       "<Figure size 432x288 with 1 Axes>"
      ]
     },
     "metadata": {
      "needs_background": "light"
     },
     "output_type": "display_data"
    },
    {
     "data": {
      "image/png": "[encoded data removed]",
      "text/plain": [
       "<Figure size 432x288 with 1 Axes>"
      ]
     },
     "metadata": {
      "needs_background": "light"
     },
     "output_type": "display_data"
    }
   ],
   "source": [
    "df_total.plot(x=\"Tanggal\")\n",
    "df_id.plot(x=\"Tanggal\", y=\"Positif\")"
   ]
  },
  {
   "cell_type": "markdown",
   "metadata": {},
   "source": [
    "3. Make comparison to several countries"
   ]
  },
  {
   "cell_type": "code",
   "execution_count": 55,
   "metadata": {},
   "outputs": [
    {
     "name": "stdout",
     "output_type": "stream",
     "text": [
      "        Negara  Latitude  Longitude  Positif  Sembuh  Meninggal\n",
      "0  Afghanistan   33.0000    65.0000    28833    8764        581\n",
      "1      Albania   41.1533    20.1683     1962    1134         44\n",
      "2      Algeria   28.0339     1.6596    11771    8422        845\n",
      "3      Andorra   42.5063     1.5218      855     792         52\n",
      "4       Angola  -11.2027    17.8739      183      77          9\n",
      "          Negara  Latitude  Longitude  Positif  Sembuh  Meninggal\n",
      "80     Indonesia   -0.7893   113.9213    45891   18404          9\n",
      "107     Malaysia    2.5000   112.5000     8572    8156         22\n",
      "135  Philippines   13.0000   122.0000    30052    7893        109\n",
      "152    Singapore    1.2833   103.8333    42095   34942       1012\n"
     ]
    },
    {
     "data": {
      "text/plain": [
       "<matplotlib.axes._subplots.AxesSubplot at 0x22f86e7c940>"
      ]
     },
     "execution_count": 55,
     "metadata": {},
     "output_type": "execute_result"
    },
    {
     "data": {
      "text/plain": [
       "<Figure size 720x720 with 0 Axes>"
      ]
     },
     "metadata": {},
     "output_type": "display_data"
    },
    {
     "data": {
      "image/png": "[encoded data removed]",
      "text/plain": [
       "<Figure size 432x288 with 1 Axes>"
      ]
     },
     "metadata": {
      "needs_background": "light"
     },
     "output_type": "display_data"
    },
    {
     "data": {
      "image/png": "[encoded data removed]",
      "text/plain": [
       "<Figure size 432x288 with 1 Axes>"
      ]
     },
     "metadata": {
      "needs_background": "light"
     },
     "output_type": "display_data"
    }
   ],
   "source": [
    "plt.figure(figsize=(10, 10))\n",
    "banding = df_global[df_global[\"Negara\"].isin([\"Indonesia\", \"Singapore\", \"Malaysia\", \"Philippines\"])]\n",
    "print(df_global.head())\n",
    "print(banding.head())\n",
    "banding.plot.bar(x=\"Negara\", y=[\"Positif\", \"Sembuh\", \"Meninggal\"], stacked=True)\n",
    "banding.plot.bar(x=\"Negara\", y=[\"Positif\", \"Sembuh\", \"Meninggal\"])"
   ]
  },
  {
   "cell_type": "code",
   "execution_count": 56,
   "metadata": {},
   "outputs": [],
   "source": [
    "new_df_id = df_id.copy()\n",
    "new_df_id['Hari'] = range(len(df_id))"
   ]
  },
  {
   "cell_type": "code",
   "execution_count": 58,
   "metadata": {},
   "outputs": [
    {
     "data": {
      "text/plain": [
       "(array([[16.,  0.,  0.,  0.,  0.,  0.,  0.,  0.,  0.,  0.],\n",
       "        [15.,  0.,  0.,  0.,  0.,  0.,  0.,  0.,  0.,  0.],\n",
       "        [15.,  0.,  0.,  0.,  0.,  0.,  0.,  0.,  0.,  0.],\n",
       "        [15.,  0.,  0.,  0.,  0.,  0.,  0.,  0.,  0.,  0.],\n",
       "        [15.,  0.,  0.,  0.,  0.,  0.,  0.,  0.,  0.,  0.],\n",
       "        [ 7.,  8.,  0.,  0.,  0.,  0.,  0.,  0.,  0.,  0.],\n",
       "        [ 0.,  6.,  9.,  0.,  0.,  0.,  0.,  0.,  0.,  0.],\n",
       "        [ 0.,  0.,  3.,  9.,  3.,  0.,  0.,  0.,  0.,  0.],\n",
       "        [ 0.,  0.,  0.,  0.,  4.,  7.,  4.,  0.,  0.,  0.],\n",
       "        [ 0.,  0.,  0.,  0.,  0.,  0.,  3.,  4.,  4.,  5.]]),\n",
       " array([  0. ,  15.1,  30.2,  45.3,  60.4,  75.5,  90.6, 105.7, 120.8,\n",
       "        135.9, 151. ]),\n",
       " array([    0. ,  4589.1,  9178.2, 13767.3, 18356.4, 22945.5, 27534.6,\n",
       "        32123.7, 36712.8, 41301.9, 45891. ]),\n",
       " <matplotlib.collections.QuadMesh at 0x22f86fa4048>)"
      ]
     },
     "execution_count": 58,
     "metadata": {},
     "output_type": "execute_result"
    },
    {
     "data": {
      "image/png": "[encoded data removed]",
      "text/plain": [
       "<Figure size 432x288 with 1 Axes>"
      ]
     },
     "metadata": {
      "needs_background": "light"
     },
     "output_type": "display_data"
    }
   ],
   "source": [
    "# histogram\n",
    "x = new_df_id['Hari']\n",
    "y = new_df_id['Positif']\n",
    "plt.hist2d(x, y)"
   ]
  },
  {
   "cell_type": "markdown",
   "metadata": {},
   "source": [
    "4. Showing top five data"
   ]
  },
  {
   "cell_type": "code",
   "execution_count": 59,
   "metadata": {},
   "outputs": [],
   "source": [
    "def teratas(df, col, n):\n",
    "    df_temp = df.sort_values(col, ascending=False)\n",
    "    return df_temp[:n]\n",
    "\n",
    "positif = teratas(df_global, \"Positif\", 30)\n",
    "sembuh = teratas(df_global, \"Sembuh\", 30)\n",
    "meninggal = teratas(df_global, \"Meninggal\", 30)\n",
    "\n",
    "positif.set_index(\"Negara\",inplace=True)\n",
    "sembuh.set_index(\"Negara\",inplace=True)\n",
    "meninggal.set_index(\"Negara\",inplace=True)"
   ]
  },
  {
   "cell_type": "code",
   "execution_count": 60,
   "metadata": {},
   "outputs": [
    {
     "data": {
      "text/plain": [
       "<matplotlib.axes._subplots.AxesSubplot at 0x22f872258d0>"
      ]
     },
     "execution_count": 60,
     "metadata": {},
     "output_type": "execute_result"
    },
    {
     "data": {
      "image/png": "[encoded data removed]",
      "text/plain": [
       "<Figure size 432x288 with 1 Axes>"
      ]
     },
     "metadata": {
      "needs_background": "light"
     },
     "output_type": "display_data"
    },
    {
     "data": {
      "image/png": "[encoded data removed]",
      "text/plain": [
       "<Figure size 432x288 with 1 Axes>"
      ]
     },
     "metadata": {
      "needs_background": "light"
     },
     "output_type": "display_data"
    },
    {
     "data": {
      "image/png": "[encoded data removed]",
      "text/plain": [
       "<Figure size 432x288 with 1 Axes>"
      ]
     },
     "metadata": {
      "needs_background": "light"
     },
     "output_type": "display_data"
    },
    {
     "data": {
      "image/png": "[encoded data removed]",
      "text/plain": [
       "<Figure size 432x288 with 1 Axes>"
      ]
     },
     "metadata": {
      "needs_background": "light"
     },
     "output_type": "display_data"
    }
   ],
   "source": [
    "positif.plot.barh(y='Positif')\n",
    "sembuh.plot.barh(y='Sembuh', color='lime')\n",
    "meninggal.plot.barh(y='Meninggal', color='red')\n",
    "\n",
    "# Top 5\n",
    "meninggal[:15].plot.barh(y='Meninggal')"
   ]
  },
  {
   "cell_type": "markdown",
   "metadata": {},
   "source": [
    "5. Calculating ratio"
   ]
  },
  {
   "cell_type": "code",
   "execution_count": 61,
   "metadata": {},
   "outputs": [
    {
     "name": "stdout",
     "output_type": "stream",
     "text": [
      "        Negara     Positif      Sembuh   Meninggal\n",
      "0  Afghanistan    0.322069    0.198002    0.124058\n",
      "1      Albania   0.0219158     0.02562  0.00939506\n",
      "2      Algeria    0.131484    0.190275    0.180428\n",
      "3      Andorra  0.00955048   0.0178934   0.0111033\n",
      "4       Angola  0.00204414  0.00173963  0.00192172\n"
     ]
    }
   ],
   "source": [
    "list_total = [df_total.iloc[-1]['Positif'], df_total.iloc[-1]['Sembuh'], df_total.iloc[-1]['Meninggal']]\n",
    "list_rasio = [df_global['Negara'], df_global['Positif'].apply(lambda x: 100*x/list_total[0]),\n",
    "              df_global['Sembuh'].apply(lambda x: 100*x/list_total[1]),\n",
    "              df_global['Meninggal'].apply(lambda x: 100*x/list_total[2])]\n",
    "df_rasio = pd.DataFrame(list_rasio).T\n",
    "print(df_rasio.head())"
   ]
  },
  {
   "cell_type": "markdown",
   "metadata": {},
   "source": [
    "6. Plot Venn diagram to have a look which countries has the highest number of recovered cases but also has highest number of confirmed cases."
   ]
  },
  {
   "cell_type": "code",
   "execution_count": null,
   "metadata": {},
   "outputs": [],
   "source": [
    "#from matplotlib_venn import venn3\n",
    "\n",
    "#A = set(positif.index.values.tolist()) #30 besar \n",
    "#B = set(sembuh.index.values.tolist())\n",
    "#C = set(meninggal.index.values.tolist())\n",
    "\n",
    "#diagram_venn = venn3([A, B, C], set_labels=(['Positif', 'Sembuh', 'Meninggal']))\n",
    "#plt.title('Perbandingan jumlah negara waspada copid')\n",
    "#plt.show()\n",
    "\n",
    "#A.intersection(B, C) # negara dengan peningkatan covid tercepat\n",
    "###Operasi dalam set\n",
    "#B-A #negara yg jumlah positif masuk 20 besar tapi masuk 20 teratas\n",
    "#B-(A|C) #engara yang jumlah positif + meninggalnya tidak masuk 20 besar tapi sembuh masuk teratas : tingkat kesembuhan tinggi"
   ]
  },
  {
   "cell_type": "markdown",
   "metadata": {},
   "source": [
    "7. Importing seaborn"
   ]
  },
  {
   "cell_type": "code",
   "execution_count": null,
   "metadata": {},
   "outputs": [],
   "source": [
    "import seaborn as sns\n",
    "#default scatter\n",
    "g = sns.lmplot(x='Longitude',  y='Positif', data=df_global)\n",
    "g2 = sns.lmplot(x='Longitude',  y='Positif', data=df_global,\n",
    "                fit_reg=False,\n",
    "                hue='Meninggal')\n",
    "g2._legend.remove()\n",
    "\n",
    "plt.scatter(x = df_global['Longitude'],\n",
    "            y = df_global['Latitude'],\n",
    "            s = df_global['Positif']*0.005,\n",
    "            alpha = 0.4,\n",
    "            edgecolors = 'w')\n",
    "plt.xlabel('Longitude')\n",
    "plt.ylabel('Latitude')\n",
    "plt.title('Positif berdasarkan longitude dan latitude')"
   ]
  }
 ],
 "metadata": {
  "kernelspec": {
   "display_name": "Python 3",
   "language": "python",
   "name": "python3"
  },
  "language_info": {
   "codemirror_mode": {
    "name": "ipython",
    "version": 3
   },
   "file_extension": ".py",
   "mimetype": "text/x-python",
   "name": "python",
   "nbconvert_exporter": "python",
   "pygments_lexer": "ipython3",
   "version": "3.6.10"
  }
 },
 "nbformat": 4,
 "nbformat_minor": 4
}
